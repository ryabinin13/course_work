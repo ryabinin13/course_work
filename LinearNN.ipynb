{
 "cells": [
  {
   "cell_type": "code",
   "execution_count": 1,
   "id": "bf33c251",
   "metadata": {},
   "outputs": [],
   "source": [
    "import numpy as np\n",
    "import torch\n",
    "import pandas as pd\n",
    "from torch.utils.data import Dataset, DataLoader\n",
    "from torch import nn\n",
    "from sklearn.preprocessing import MinMaxScaler\n",
    "from sklearn.model_selection import train_test_split\n",
    "import matplotlib.pyplot as plt"
   ]
  },
  {
   "cell_type": "code",
   "execution_count": 7,
   "id": "a05a91c9",
   "metadata": {},
   "outputs": [],
   "source": [
    "import sys\n",
    "sys.path.append('C:/Users/Юрий/Desktop/jupiter/course_work')\n",
    "\n",
    "from MNIST import data\n",
    "train_mnist, val_mnist, test_mnist = data('fashion-mnist')"
   ]
  },
  {
   "cell_type": "code",
   "execution_count": 8,
   "id": "42c03554",
   "metadata": {},
   "outputs": [],
   "source": [
    "from Train import train, test"
   ]
  },
  {
   "cell_type": "code",
   "execution_count": 9,
   "id": "fd12d111",
   "metadata": {},
   "outputs": [],
   "source": [
    "class MnistDatasetLinear(torch.utils.data.Dataset):\n",
    "    def __init__(self, t_mnist):\n",
    "        self.x=t_mnist.drop('label', axis=1).values\n",
    "        self.y=t_mnist['label'].values\n",
    "        \n",
    "    def __len__(self):\n",
    "        return len(self.x)\n",
    "    \n",
    "    def __getitem__(self, i):\n",
    "        return {'sample': torch.tensor(self.x[i], dtype=torch.float), 'target': torch.tensor(self.y[i], dtype=torch.int64)}"
   ]
  },
  {
   "cell_type": "code",
   "execution_count": 10,
   "id": "f595b939",
   "metadata": {},
   "outputs": [],
   "source": [
    "train_set = MnistDatasetLinear(train_mnist)\n",
    "test_set = MnistDatasetLinear(test_mnist)\n",
    "val_set = MnistDatasetLinear(val_mnist)"
   ]
  },
  {
   "cell_type": "code",
   "execution_count": 11,
   "id": "1b290f93",
   "metadata": {},
   "outputs": [],
   "source": [
    "train_loader = DataLoader(train_set, batch_size=64, shuffle=True)\n",
    "test_loader = DataLoader(test_set, batch_size=64)\n",
    "val_loader = DataLoader(val_set, batch_size=1024)"
   ]
  },
  {
   "cell_type": "code",
   "execution_count": 130,
   "id": "1d7d3241",
   "metadata": {},
   "outputs": [],
   "source": [
    "# class MnistLinearNN(nn.Module):\n",
    "#     def __init__(self, in_features, num_classes, hidden_size, number_of_layers):\n",
    "#         super().__init__()\n",
    "#         self.model = nn.Sequential(\n",
    "#             nn.Linear(in_features=in_features, out_features=hidden_size//number_of_layers),\n",
    "#             nn.ReLU(),\n",
    "#             nn.Linear(in_features=hidden_size//number_of_layers, out_features=num_classes),\n",
    "#             #nn.LogSoftmax()\n",
    "#         )\n",
    "\n",
    "#     def forward(self, x):\n",
    "#         return self.model(x)"
   ]
  },
  {
   "cell_type": "code",
   "execution_count": 12,
   "id": "fb705f4e",
   "metadata": {},
   "outputs": [],
   "source": [
    "class MnistLinearNN(nn.Module):\n",
    "    def __init__(self, in_features, num_classes, hidden_size, number_of_layers):\n",
    "        super(MnistLinearNN, self).__init__()\n",
    "        layers = []\n",
    "        layers.append(nn.Linear(in_features, hidden_size // number_of_layers))\n",
    "        \n",
    "        for i in range(number_of_layers - 1):\n",
    "            layers.append(nn.Linear(hidden_size // number_of_layers, hidden_size // number_of_layers))\n",
    "        layers.append(nn.Linear(hidden_size // number_of_layers, num_classes))\n",
    "        \n",
    "        self.layers = nn.ModuleList(layers)\n",
    "\n",
    "    def forward(self, x):\n",
    "        for layer in self.layers:\n",
    "            x = torch.relu(layer(x))\n",
    "        return x"
   ]
  },
  {
   "cell_type": "code",
   "execution_count": 13,
   "id": "4be6d9cf",
   "metadata": {},
   "outputs": [],
   "source": [
    "IMG_SIZE = 28\n",
    "NUM_CLASSES = 10\n",
    "HIDDEN_SIZE = 1024\n",
    "EPOCHS = 100"
   ]
  },
  {
   "cell_type": "code",
   "execution_count": 15,
   "id": "2ed5ba69",
   "metadata": {},
   "outputs": [
    {
     "name": "stdout",
     "output_type": "stream",
     "text": [
      "epoch = 1, loss = 0.8676635026931763, accuracy = 0.6956\n",
      "epoch = 2, loss = 0.5774137377738953, accuracy = 0.8036\n",
      "epoch = 3, loss = 0.5592327117919922, accuracy = 0.8054\n",
      "epoch = 4, loss = 0.5507515072822571, accuracy = 0.8098\n",
      "epoch = 5, loss = 0.5311630964279175, accuracy = 0.817\n",
      "epoch = 6, loss = 0.5285398364067078, accuracy = 0.8168\n",
      "epoch = 7, loss = 0.5327355265617371, accuracy = 0.8108\n",
      "loss = 0.5162328481674194, accuracy = 0.816\n",
      "epoch = 1, loss = 0.44055071473121643, accuracy = 0.8394\n",
      "epoch = 2, loss = 0.34486979246139526, accuracy = 0.875\n",
      "epoch = 3, loss = 0.3306867480278015, accuracy = 0.883\n",
      "epoch = 4, loss = 0.3165551722049713, accuracy = 0.8808\n",
      "epoch = 5, loss = 0.3192436099052429, accuracy = 0.887\n",
      "loss = 0.32405227422714233, accuracy = 0.885\n",
      "epoch = 1, loss = 0.43953651189804077, accuracy = 0.8378\n",
      "epoch = 2, loss = 0.3851906955242157, accuracy = 0.8568\n",
      "epoch = 3, loss = 0.34695178270339966, accuracy = 0.8728\n",
      "epoch = 4, loss = 0.3343370854854584, accuracy = 0.88\n",
      "epoch = 5, loss = 0.3202410638332367, accuracy = 0.8814\n",
      "epoch = 6, loss = 0.31735506653785706, accuracy = 0.883\n",
      "epoch = 7, loss = 0.3222895860671997, accuracy = 0.883\n",
      "loss = 0.3309316635131836, accuracy = 0.8774\n",
      "epoch = 1, loss = 0.4440975785255432, accuracy = 0.8424\n",
      "epoch = 2, loss = 0.38527196645736694, accuracy = 0.861\n",
      "epoch = 3, loss = 0.35708653926849365, accuracy = 0.8752\n",
      "epoch = 4, loss = 0.33589982986450195, accuracy = 0.8818\n",
      "epoch = 5, loss = 0.3196813464164734, accuracy = 0.8832\n",
      "epoch = 6, loss = 0.32889291644096375, accuracy = 0.882\n",
      "loss = 0.3327191472053528, accuracy = 0.8768\n",
      "epoch = 1, loss = 1.362358570098877, accuracy = 0.482\n",
      "epoch = 2, loss = 1.2477072477340698, accuracy = 0.5664\n",
      "epoch = 3, loss = 1.252110481262207, accuracy = 0.572\n",
      "loss = 1.2874746322631836, accuracy = 0.5588\n",
      "epoch = 1, loss = 0.8025587201118469, accuracy = 0.7152\n",
      "epoch = 2, loss = 0.6798492074012756, accuracy = 0.749\n",
      "epoch = 3, loss = 0.6058086156845093, accuracy = 0.7756\n",
      "epoch = 4, loss = 0.6489889025688171, accuracy = 0.7622\n",
      "loss = 0.6447826027870178, accuracy = 0.7678\n",
      "epoch = 1, loss = 2.1303277015686035, accuracy = 0.1918\n",
      "epoch = 2, loss = 1.9737498760223389, accuracy = 0.2892\n",
      "epoch = 3, loss = 1.9728028774261475, accuracy = 0.2806\n",
      "epoch = 4, loss = 1.9565238952636719, accuracy = 0.2846\n",
      "epoch = 5, loss = 1.9389861822128296, accuracy = 0.2912\n",
      "epoch = 6, loss = 1.9634053707122803, accuracy = 0.2916\n",
      "loss = 1.9642517566680908, accuracy = 0.2962\n",
      "epoch = 1, loss = 2.3025851249694824, accuracy = 0.098\n",
      "epoch = 2, loss = 2.3025851249694824, accuracy = 0.098\n",
      "epoch = 3, loss = 2.3025851249694824, accuracy = 0.098\n",
      "epoch = 4, loss = 2.3025851249694824, accuracy = 0.098\n",
      "epoch = 5, loss = 2.3025851249694824, accuracy = 0.098\n",
      "epoch = 6, loss = 2.3025851249694824, accuracy = 0.098\n",
      "epoch = 7, loss = 2.3025851249694824, accuracy = 0.098\n",
      "epoch = 8, loss = 2.3025851249694824, accuracy = 0.098\n",
      "epoch = 9, loss = 2.3025851249694824, accuracy = 0.098\n",
      "epoch = 10, loss = 2.3025851249694824, accuracy = 0.098\n",
      "epoch = 11, loss = 2.3025851249694824, accuracy = 0.098\n",
      "epoch = 12, loss = 2.3025851249694824, accuracy = 0.098\n",
      "loss = 2.3025851249694824, accuracy = 0.102\n",
      "epoch = 1, loss = 2.3025851249694824, accuracy = 0.098\n",
      "epoch = 2, loss = 2.3025851249694824, accuracy = 0.098\n",
      "epoch = 3, loss = 2.3025851249694824, accuracy = 0.098\n",
      "epoch = 4, loss = 2.3025851249694824, accuracy = 0.098\n",
      "epoch = 5, loss = 2.3025851249694824, accuracy = 0.098\n",
      "epoch = 6, loss = 2.3025851249694824, accuracy = 0.098\n",
      "epoch = 7, loss = 2.3025851249694824, accuracy = 0.098\n",
      "epoch = 8, loss = 2.3025851249694824, accuracy = 0.098\n",
      "epoch = 9, loss = 2.3025851249694824, accuracy = 0.098\n",
      "epoch = 10, loss = 2.3025851249694824, accuracy = 0.098\n",
      "epoch = 11, loss = 2.3025851249694824, accuracy = 0.098\n",
      "epoch = 12, loss = 2.3025851249694824, accuracy = 0.098\n",
      "loss = 2.3025851249694824, accuracy = 0.102\n",
      "epoch = 1, loss = 2.3025851249694824, accuracy = 0.098\n",
      "epoch = 2, loss = 2.3025851249694824, accuracy = 0.098\n",
      "epoch = 3, loss = 2.3025851249694824, accuracy = 0.098\n",
      "epoch = 4, loss = 2.3025851249694824, accuracy = 0.098\n",
      "epoch = 5, loss = 2.3025851249694824, accuracy = 0.098\n",
      "epoch = 6, loss = 2.3025851249694824, accuracy = 0.098\n",
      "epoch = 7, loss = 2.3025851249694824, accuracy = 0.098\n",
      "epoch = 8, loss = 2.3025851249694824, accuracy = 0.098\n",
      "epoch = 9, loss = 2.3025851249694824, accuracy = 0.098\n",
      "epoch = 10, loss = 2.3025851249694824, accuracy = 0.098\n",
      "epoch = 11, loss = 2.3025851249694824, accuracy = 0.098\n",
      "epoch = 12, loss = 2.3025851249694824, accuracy = 0.098\n",
      "loss = 2.3025851249694824, accuracy = 0.102\n",
      "epoch = 1, loss = 2.3025851249694824, accuracy = 0.098\n",
      "epoch = 2, loss = 2.3025851249694824, accuracy = 0.098\n",
      "epoch = 3, loss = 2.3025851249694824, accuracy = 0.098\n",
      "epoch = 4, loss = 2.3025851249694824, accuracy = 0.098\n",
      "epoch = 5, loss = 2.3025851249694824, accuracy = 0.098\n",
      "epoch = 6, loss = 2.3025851249694824, accuracy = 0.098\n",
      "epoch = 7, loss = 2.3025851249694824, accuracy = 0.098\n",
      "epoch = 8, loss = 2.3025851249694824, accuracy = 0.098\n",
      "epoch = 9, loss = 2.3025851249694824, accuracy = 0.098\n",
      "epoch = 10, loss = 2.3025851249694824, accuracy = 0.098\n",
      "epoch = 11, loss = 2.3025851249694824, accuracy = 0.098\n",
      "epoch = 12, loss = 2.3025851249694824, accuracy = 0.098\n",
      "loss = 2.3025851249694824, accuracy = 0.102\n",
      "epoch = 1, loss = 2.3025851249694824, accuracy = 0.098\n",
      "epoch = 2, loss = 2.3025851249694824, accuracy = 0.098\n",
      "epoch = 3, loss = 2.3025851249694824, accuracy = 0.098\n",
      "epoch = 4, loss = 2.3025851249694824, accuracy = 0.098\n",
      "epoch = 5, loss = 2.3025851249694824, accuracy = 0.098\n",
      "epoch = 6, loss = 2.3025851249694824, accuracy = 0.098\n",
      "epoch = 7, loss = 2.3025851249694824, accuracy = 0.098\n",
      "epoch = 8, loss = 2.3025851249694824, accuracy = 0.098\n",
      "epoch = 9, loss = 2.3025851249694824, accuracy = 0.098\n",
      "epoch = 10, loss = 2.3025851249694824, accuracy = 0.098\n",
      "epoch = 11, loss = 2.3025851249694824, accuracy = 0.098\n",
      "epoch = 12, loss = 2.3025851249694824, accuracy = 0.098\n",
      "loss = 2.3025851249694824, accuracy = 0.102\n"
     ]
    }
   ],
   "source": [
    "count_layers = np.array([ 1,  2, 3,  4, 5, 6, 7, 8, 9, 10, 12, 14])\n",
    "results = []\n",
    "for c in count_layers:\n",
    "    model = MnistLinearNN(in_features=IMG_SIZE ** 2, num_classes=NUM_CLASSES, hidden_size=HIDDEN_SIZE, number_of_layers=c)\n",
    "    optimizer = torch.optim.SGD(model.parameters(), lr=0.01, momentum=0.9)\n",
    "    criterion = nn.CrossEntropyLoss()\n",
    "    val_loss_log, val_acc_log = train(model, criterion, optimizer, EPOCHS, train_loader, val_loader)\n",
    "    loss_test, acc_test = test(model, criterion, test_loader)\n",
    "    results.append([min(val_loss_log), max(val_acc_log), np.mean(loss_test), np.mean(acc_test)])\n",
    "    print(f'loss = {np.mean(loss_test)}, accuracy = {np.mean(acc_test)}')"
   ]
  },
  {
   "cell_type": "code",
   "execution_count": 16,
   "id": "1d3d0d6a",
   "metadata": {},
   "outputs": [
    {
     "data": {
      "text/plain": [
       "[[0.52853984, 0.817, 0.51623285, 0.816],\n",
       " [0.31655517, 0.887, 0.32405227, 0.885],\n",
       " [0.31735507, 0.883, 0.33093166, 0.8774],\n",
       " [0.31968135, 0.8832, 0.33271915, 0.8768],\n",
       " [1.2477072, 0.572, 1.2874746, 0.5588],\n",
       " [0.6058086, 0.7756, 0.6447826, 0.7678],\n",
       " [1.9389862, 0.2916, 1.9642518, 0.2962],\n",
       " [2.3025851, 0.098, 2.3025851, 0.102],\n",
       " [2.3025851, 0.098, 2.3025851, 0.102],\n",
       " [2.3025851, 0.098, 2.3025851, 0.102],\n",
       " [2.3025851, 0.098, 2.3025851, 0.102],\n",
       " [2.3025851, 0.098, 2.3025851, 0.102]]"
      ]
     },
     "execution_count": 16,
     "metadata": {},
     "output_type": "execute_result"
    }
   ],
   "source": [
    "results"
   ]
  },
  {
   "cell_type": "code",
   "execution_count": 17,
   "id": "fb3d9cca",
   "metadata": {},
   "outputs": [],
   "source": [
    "val_loss = [row[0] for row in results]\n",
    "val_acc = [row[1] for row in results]\n",
    "test_loss = [row[2] for row in results]\n",
    "test_acc = [row[3] for row in results]"
   ]
  },
  {
   "cell_type": "code",
   "execution_count": 18,
   "id": "40fdb13a",
   "metadata": {},
   "outputs": [
    {
     "data": {
      "text/plain": [
       "<matplotlib.legend.Legend at 0x1ce9d3e2920>"
      ]
     },
     "execution_count": 18,
     "metadata": {},
     "output_type": "execute_result"
    },
    {
     "data": {
      "image/png": "[encoded data removed]",
      "text/plain": [
       "<Figure size 640x480 with 1 Axes>"
      ]
     },
     "metadata": {},
     "output_type": "display_data"
    }
   ],
   "source": [
    "plt.plot([ 1,  2, 3,  4, 5, 6, 7, 8, 9, 10, 12, 14], val_loss, label = 'loss')\n",
    "plt.plot([ 1,  2, 3,  4, 5, 6, 7, 8, 9, 10, 12, 14], val_acc, label = 'accuracy')\n",
    "plt.xlabel('Количество слоев') \n",
    "plt.ylabel('Значения')\n",
    "plt.title('Средняя Ошибка и Доля Правильных Ответов на валидации')\n",
    "plt.legend()"
   ]
  },
  {
   "cell_type": "code",
   "execution_count": 19,
   "id": "c83a655e",
   "metadata": {},
   "outputs": [
    {
     "data": {
      "text/plain": [
       "<matplotlib.legend.Legend at 0x1ce9f0a8fa0>"
      ]
     },
     "execution_count": 19,
     "metadata": {},
     "output_type": "execute_result"
    },
    {
     "data": {
      "image/png": "[encoded data removed]",
      "text/plain": [
       "<Figure size 640x480 with 1 Axes>"
      ]
     },
     "metadata": {},
     "output_type": "display_data"
    }
   ],
   "source": [
    "plt.plot([ 1,  2, 3,  4, 5, 6, 7, 8, 9, 10, 12, 14], test_loss, label = 'loss')\n",
    "plt.plot([ 1,  2, 3,  4, 5, 6, 7, 8, 9, 10, 12, 14], test_acc, label = 'accuracy')\n",
    "plt.xlabel('Количество слоев полносвязной НС') \n",
    "plt.ylabel('Значения')\n",
    "plt.title('Средняя Ошибка и Доля Правильных Ответов на тесте')\n",
    "plt.legend()"
   ]
  },
  {
   "cell_type": "code",
   "execution_count": null,
   "id": "1164f505",
   "metadata": {},
   "outputs": [],
   "source": [
    "plt.plot()"
   ]
  },
  {
   "cell_type": "code",
   "execution_count": 9,
   "id": "ddc6ff62",
   "metadata": {},
   "outputs": [],
   "source": [
    "model = MnistLinearNN(in_features=IMG_SIZE ** 2, num_classes=NUM_CLASSES, hidden_size=HIDDEN_SIZE, number_of_layers=2)"
   ]
  },
  {
   "cell_type": "code",
   "execution_count": 10,
   "id": "1750c7e7",
   "metadata": {},
   "outputs": [],
   "source": [
    "optimizer = torch.optim.SGD(model.parameters(), lr=0.01, momentum=0.9)\n",
    "criterion = nn.CrossEntropyLoss()"
   ]
  },
  {
   "cell_type": "code",
   "execution_count": 11,
   "id": "b7290606",
   "metadata": {},
   "outputs": [],
   "source": [
    "info = model.compile"
   ]
  },
  {
   "cell_type": "code",
   "execution_count": 12,
   "id": "3c3b0e3f",
   "metadata": {},
   "outputs": [
    {
     "name": "stdout",
     "output_type": "stream",
     "text": [
      "epoch = 1, loss = 0.19941529631614685, accuracy = 0.9404\n",
      "epoch = 2, loss = 0.1301908940076828, accuracy = 0.9584\n",
      "epoch = 3, loss = 0.10656626522541046, accuracy = 0.967\n",
      "epoch = 4, loss = 0.09574859589338303, accuracy = 0.9682\n",
      "epoch = 5, loss = 0.07922220230102539, accuracy = 0.9748\n",
      "epoch = 6, loss = 0.0716555044054985, accuracy = 0.9752\n",
      "epoch = 7, loss = 0.07014952600002289, accuracy = 0.9766\n",
      "epoch = 8, loss = 0.07093263417482376, accuracy = 0.9764\n"
     ]
    }
   ],
   "source": [
    "val_loss_log, val_acc_log = train(model, criterion, optimizer, EPOCHS, train_loader, val_loader)"
   ]
  },
  {
   "cell_type": "code",
   "execution_count": 22,
   "id": "dbdb455c",
   "metadata": {},
   "outputs": [
    {
     "name": "stdout",
     "output_type": "stream",
     "text": [
      "loss = 0.07567625492811203, accuracy = 0.9752\n"
     ]
    }
   ],
   "source": [
    "loss_test, acc_test = test(model, criterion, test_loader)\n",
    "\n",
    "print(f'loss = {np.mean(loss_test)}, accuracy = {np.mean(acc_test)}')"
   ]
  },
  {
   "cell_type": "code",
   "execution_count": 23,
   "id": "d4e24f98",
   "metadata": {},
   "outputs": [
    {
     "data": {
      "text/plain": [
       "([0.1994153,\n",
       "  0.1301909,\n",
       "  0.106566265,\n",
       "  0.095748596,\n",
       "  0.0792222,\n",
       "  0.071655504,\n",
       "  0.070149526,\n",
       "  0.070932634],\n",
       " [0.9404, 0.9584, 0.967, 0.9682, 0.9748, 0.9752, 0.9766, 0.9764])"
      ]
     },
     "execution_count": 23,
     "metadata": {},
     "output_type": "execute_result"
    }
   ],
   "source": [
    "val_loss_log, val_acc_log"
   ]
  },
  {
   "cell_type": "code",
   "execution_count": 25,
   "id": "b47409cf",
   "metadata": {},
   "outputs": [
    {
     "data": {
      "text/plain": [
       "(0.075676255, 0.9752)"
      ]
     },
     "execution_count": 25,
     "metadata": {},
     "output_type": "execute_result"
    }
   ],
   "source": [
    "np.mean(loss_test), np.mean(acc_test)"
   ]
  },
  {
   "cell_type": "code",
   "execution_count": null,
   "id": "a925e766",
   "metadata": {},
   "outputs": [],
   "source": []
  }
 ],
 "metadata": {
  "kernelspec": {
   "display_name": "Python 3 (ipykernel)",
   "language": "python",
   "name": "python3"
  },
  "language_info": {
   "codemirror_mode": {
    "name": "ipython",
    "version": 3
   },
   "file_extension": ".py",
   "mimetype": "text/x-python",
   "name": "python",
   "nbconvert_exporter": "python",
   "pygments_lexer": "ipython3",
   "version": "3.10.13"
  }
 },
 "nbformat": 4,
 "nbformat_minor": 5
}
